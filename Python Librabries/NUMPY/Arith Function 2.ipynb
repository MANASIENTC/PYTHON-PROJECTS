{
 "cells": [
  {
   "cell_type": "code",
   "execution_count": 17,
   "id": "18e4bc8b-aaeb-4b1b-9cd1-ed8fbc68d21b",
   "metadata": {},
   "outputs": [],
   "source": [
    "#Shuffle Function"
   ]
  },
  {
   "cell_type": "code",
   "execution_count": 5,
   "id": "5dfdfddf-5650-44ba-acc6-8b6662e00376",
   "metadata": {},
   "outputs": [
    {
     "name": "stdout",
     "output_type": "stream",
     "text": [
      "[1 5 3 2 4]\n"
     ]
    }
   ],
   "source": [
    "import numpy as np\n",
    "A =np.array([1,2,3,4,5])\n",
    "np.random.shuffle(A)\n",
    "print(A)"
   ]
  },
  {
   "cell_type": "code",
   "execution_count": 16,
   "id": "31cd5394-55d6-414e-8907-b279b3e312da",
   "metadata": {},
   "outputs": [],
   "source": [
    "#UNIQUE Function"
   ]
  },
  {
   "cell_type": "code",
   "execution_count": 11,
   "id": "0a724683-c42d-4a26-a1a3-a7b776e72670",
   "metadata": {},
   "outputs": [
    {
     "name": "stdout",
     "output_type": "stream",
     "text": [
      "[1 2 3 4 5 6 7]\n"
     ]
    }
   ],
   "source": [
    "B = np.array([1,2,3,4,2,3,5,6,4,7])\n",
    "C = np.unique(B)\n",
    "print(C)"
   ]
  },
  {
   "cell_type": "code",
   "execution_count": 14,
   "id": "64efe9d3-f31d-40be-b407-293b595457ff",
   "metadata": {},
   "outputs": [
    {
     "name": "stdout",
     "output_type": "stream",
     "text": [
      "(array([1, 2, 3, 4, 5, 6, 7]), array([0, 1, 2, 3, 6, 7, 9], dtype=int64))\n"
     ]
    }
   ],
   "source": [
    "B1 = np.array([1,2,3,4,2,3,5,6,4,7])\n",
    "C1 = np.unique(B1,return_index = True)\n",
    "print(C1)"
   ]
  },
  {
   "cell_type": "code",
   "execution_count": 13,
   "id": "e23a8046-f823-457d-b004-e6d4fe2bd479",
   "metadata": {},
   "outputs": [
    {
     "name": "stdout",
     "output_type": "stream",
     "text": [
      "(array([1, 2, 3, 4, 5, 6, 7]), array([0, 1, 2, 3, 6, 7, 9], dtype=int64), array([1, 2, 2, 2, 1, 1, 1], dtype=int64))\n"
     ]
    }
   ],
   "source": [
    "B2 = np.array([1,2,3,4,2,3,5,6,4,7])\n",
    "C2 = np.unique(B2,return_index = True,return_counts=  True)\n",
    "print(C2)"
   ]
  },
  {
   "cell_type": "code",
   "execution_count": 18,
   "id": "2e4bfeae-50ed-4e79-884d-dbc278780186",
   "metadata": {},
   "outputs": [],
   "source": [
    "#RESIZE Fubction"
   ]
  },
  {
   "cell_type": "code",
   "execution_count": 20,
   "id": "55ade447-4786-4324-9bb3-471a36489357",
   "metadata": {},
   "outputs": [
    {
     "name": "stdout",
     "output_type": "stream",
     "text": [
      "[[1 2 3]\n",
      " [4 5 6]]\n"
     ]
    }
   ],
   "source": [
    "var = np.array([1,2,3,4,5,6])\n",
    "Y = np.resize(var,(2,3))\n",
    "print(Y)"
   ]
  },
  {
   "cell_type": "code",
   "execution_count": 21,
   "id": "6a872f4c-74f6-4b2c-9e1b-ea4375d614da",
   "metadata": {},
   "outputs": [
    {
     "name": "stdout",
     "output_type": "stream",
     "text": [
      "[[1 2]\n",
      " [3 4]\n",
      " [5 6]]\n"
     ]
    }
   ],
   "source": [
    "var = np.array([1,2,3,4,5,6])\n",
    "Y = np.resize(var,(3,2))\n",
    "print(Y)"
   ]
  },
  {
   "cell_type": "code",
   "execution_count": 22,
   "id": "488f2169-8a26-48c3-b20a-8a5e974e08a6",
   "metadata": {},
   "outputs": [],
   "source": [
    "#FLATTEN FUNCTION"
   ]
  },
  {
   "cell_type": "code",
   "execution_count": 27,
   "id": "acb0769a-adfb-4a97-a23c-20da535b5482",
   "metadata": {},
   "outputs": [
    {
     "name": "stdout",
     "output_type": "stream",
     "text": [
      "[[1 2]\n",
      " [3 4]\n",
      " [5 6]]\n",
      "\n",
      "[1 3 5 2 4 6]\n"
     ]
    }
   ],
   "source": [
    "var1 = np.array([1,2,3,4,5,6])\n",
    "Y1 = np.resize(var1,(3,2))\n",
    "print(Y1)\n",
    "print()\n",
    "print(Y.flatten(order='C'))  # c is default"
   ]
  },
  {
   "cell_type": "code",
   "execution_count": 37,
   "id": "4ef8567d-2124-43a6-9d9a-9051812c7851",
   "metadata": {},
   "outputs": [
    {
     "name": "stdout",
     "output_type": "stream",
     "text": [
      "[[1 2]\n",
      " [3 4]\n",
      " [5 6]]\n",
      "\n",
      "Flatten : [1 3 5 2 4 6]\n",
      "Ravel :  [1 2 3 4 5 6]\n"
     ]
    }
   ],
   "source": [
    "var1 = np.array([1,2,3,4,5,6])\n",
    "Y1 = np.resize(var1,(3,2))\n",
    "print(Y1)\n",
    "print()\n",
    "print('Flatten :',Y.flatten(order='F')) #F &c to is random change of row\n",
    "print('Ravel : ',np.ravel(Y1,order= 'A')) #A & K to change column of the order "
   ]
  },
  {
   "cell_type": "code",
   "execution_count": null,
   "id": "3a589582-7626-473b-b634-f5795214f8a3",
   "metadata": {},
   "outputs": [],
   "source": []
  }
 ],
 "metadata": {
  "kernelspec": {
   "display_name": "Python 3 (ipykernel)",
   "language": "python",
   "name": "python3"
  },
  "language_info": {
   "codemirror_mode": {
    "name": "ipython",
    "version": 3
   },
   "file_extension": ".py",
   "mimetype": "text/x-python",
   "name": "python",
   "nbconvert_exporter": "python",
   "pygments_lexer": "ipython3",
   "version": "3.12.3"
  }
 },
 "nbformat": 4,
 "nbformat_minor": 5
}
