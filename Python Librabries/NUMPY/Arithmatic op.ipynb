{
 "cells": [
  {
   "cell_type": "code",
   "execution_count": 1,
   "id": "5521f3dd-0195-489d-972a-0d4557fbcf8d",
   "metadata": {},
   "outputs": [],
   "source": [
    "# Arithmatic OPERATION"
   ]
  },
  {
   "cell_type": "code",
   "execution_count": 24,
   "id": "364e4a53-1b49-4974-8ae8-284bb0729517",
   "metadata": {},
   "outputs": [],
   "source": [
    "#1D ARRAY IN ARITHMATIC OPERATION"
   ]
  },
  {
   "cell_type": "code",
   "execution_count": 11,
   "id": "2a154ba0-8918-4c8d-ac89-9b4be3ca4a0e",
   "metadata": {},
   "outputs": [
    {
     "name": "stdout",
     "output_type": "stream",
     "text": [
      "[4 5 6 7 8]\n"
     ]
    }
   ],
   "source": [
    "import numpy as np\n",
    "\n",
    "var = np.array([1,2,3,4,5])\n",
    "\n",
    "varadd = var + 3\n",
    "\n",
    "print(varadd) "
   ]
  },
  {
   "cell_type": "code",
   "execution_count": 12,
   "id": "99014280-cfaa-4ea1-94e4-14c3d81a45a2",
   "metadata": {},
   "outputs": [
    {
     "name": "stdout",
     "output_type": "stream",
     "text": [
      "[-2 -1  0  1  2]\n"
     ]
    }
   ],
   "source": [
    "import numpy as np\n",
    "\n",
    "var = np.array([1,2,3,4,5])\n",
    "\n",
    "varadd = var - 3\n",
    "\n",
    "print(varadd) "
   ]
  },
  {
   "cell_type": "code",
   "execution_count": 13,
   "id": "026d138c-98b8-487d-9526-b6fcabd129dd",
   "metadata": {},
   "outputs": [
    {
     "name": "stdout",
     "output_type": "stream",
     "text": [
      "[ 3  6  9 12 15]\n"
     ]
    }
   ],
   "source": [
    "var1 = np.array([1,2,3,4,5])\n",
    "var2 = np.array([1,2,3,4,5])\n",
    "\n",
    "varadd = var1 * 3\n",
    "\n",
    "print(varadd) "
   ]
  },
  {
   "cell_type": "code",
   "execution_count": 18,
   "id": "f3cebb27-3cdc-4120-bd63-f93000501e43",
   "metadata": {},
   "outputs": [
    {
     "name": "stdout",
     "output_type": "stream",
     "text": [
      "[ 2  4  6  8 10]\n"
     ]
    }
   ],
   "source": [
    "var1 = np.array([1,2,3,4,5])\n",
    "var2 = np.array([1,2,3,4,5])\n",
    "\n",
    "varadd = var1 + var2\n",
    "\n",
    "print(varadd) "
   ]
  },
  {
   "cell_type": "code",
   "execution_count": 21,
   "id": "66695e4a-53fd-429d-9ce2-32dd0e3ce603",
   "metadata": {},
   "outputs": [
    {
     "name": "stdout",
     "output_type": "stream",
     "text": [
      "[ 2  4  6  8 10]\n"
     ]
    }
   ],
   "source": [
    "var1 = np.array([1,2,3,4,5])\n",
    "var2 = np.array([1,2,3,4,5])\n",
    "\n",
    "varadd = np.add(var1,var2)\n",
    "\n",
    "print(varadd) "
   ]
  },
  {
   "cell_type": "code",
   "execution_count": 22,
   "id": "afd3e9ea-78b6-4a7d-9e3b-85cdb33adf78",
   "metadata": {},
   "outputs": [
    {
     "name": "stdout",
     "output_type": "stream",
     "text": [
      "[4 5 6 7 8]\n"
     ]
    }
   ],
   "source": [
    "var1 = np.array([1,2,3,4,5])\n",
    "var2 = np.array([1,2,3,4,5])\n",
    "\n",
    "varadd = np.add(var1,3)\n",
    "\n",
    "print(varadd) "
   ]
  },
  {
   "cell_type": "code",
   "execution_count": 15,
   "id": "b19bd7a3-769e-4e51-a468-bfa03b7f991b",
   "metadata": {},
   "outputs": [
    {
     "name": "stdout",
     "output_type": "stream",
     "text": [
      "[ 3  6  9 12 15]\n"
     ]
    }
   ],
   "source": [
    "var = np.array([1,2,3,4,5])\n",
    "\n",
    "varadd = var * 3\n",
    "\n",
    "print(varadd) "
   ]
  },
  {
   "cell_type": "code",
   "execution_count": 16,
   "id": "6c5b71eb-63c5-4589-86cf-0c11dfa46265",
   "metadata": {},
   "outputs": [
    {
     "name": "stdout",
     "output_type": "stream",
     "text": [
      "[0.33333333 0.66666667 1.         1.33333333 1.66666667]\n"
     ]
    }
   ],
   "source": [
    "var = np.array([1,2,3,4,5])\n",
    "\n",
    "varadd = var / 3\n",
    "\n",
    "print(varadd) "
   ]
  },
  {
   "cell_type": "code",
   "execution_count": 17,
   "id": "3029879c-9c8f-4984-8531-cdd668c1fd25",
   "metadata": {},
   "outputs": [
    {
     "name": "stdout",
     "output_type": "stream",
     "text": [
      "[1 2 0 1 2]\n"
     ]
    }
   ],
   "source": [
    "var = np.array([1,2,3,4,5])\n",
    "\n",
    "varadd = var % 3\n",
    "\n",
    "print(varadd) "
   ]
  },
  {
   "cell_type": "code",
   "execution_count": 28,
   "id": "617ca196-b59b-43e3-aa3f-c9fa44834530",
   "metadata": {},
   "outputs": [
    {
     "name": "stdout",
     "output_type": "stream",
     "text": [
      "[1 0 0 0 0]\n"
     ]
    }
   ],
   "source": [
    "var = np.array([1,2,3,4,5])\n",
    "\n",
    "varadd = np.reciprocal(var) \n",
    "\n",
    "print(varadd) "
   ]
  },
  {
   "cell_type": "code",
   "execution_count": 23,
   "id": "ab2b4534-dcde-4dec-8ed3-dacbf0cd532b",
   "metadata": {},
   "outputs": [],
   "source": [
    "#2D ARRAY ARITHMATIC OPERATION"
   ]
  },
  {
   "cell_type": "code",
   "execution_count": 26,
   "id": "b04a3475-1643-45f5-bf4e-daea1f9f21bc",
   "metadata": {},
   "outputs": [
    {
     "name": "stdout",
     "output_type": "stream",
     "text": [
      "[[1 2 3 4]\n",
      " [1 2 3 4]]\n",
      "\n",
      "[[1 2 3 4]\n",
      " [1 2 3 4]]\n",
      "\n",
      "[[2 4 6 8]\n",
      " [2 4 6 8]]\n"
     ]
    }
   ],
   "source": [
    "var21 = np.array([[1,2,3,4],[1,2,3,4]])\n",
    "var22 = np.array([[1,2,3,4],[1,2,3,4]])\n",
    "\n",
    "print(var21)\n",
    "print()\n",
    "print(var22)\n",
    "print()\n",
    "\n",
    "varadd = var21 + var22\n",
    "\n",
    "print(varadd) "
   ]
  },
  {
   "cell_type": "code",
   "execution_count": 27,
   "id": "15bd8111-7612-409f-b89a-16e3ad0ac35d",
   "metadata": {},
   "outputs": [
    {
     "name": "stdout",
     "output_type": "stream",
     "text": [
      "[[1 2 3 4]\n",
      " [1 2 3 4]]\n",
      "\n",
      "[[1 2 3 4]\n",
      " [1 2 3 4]]\n",
      "\n",
      "[[ 1  4  9 16]\n",
      " [ 1  4  9 16]]\n"
     ]
    }
   ],
   "source": [
    "var21 = np.array([[1,2,3,4],[1,2,3,4]])\n",
    "var22 = np.array([[1,2,3,4],[1,2,3,4]])\n",
    "\n",
    "print(var21)\n",
    "print()\n",
    "print(var22)\n",
    "print()\n",
    "\n",
    "varadd = var21 * var22\n",
    "\n",
    "print(varadd)"
   ]
  },
  {
   "cell_type": "code",
   "execution_count": 29,
   "id": "6ccd0198-74a0-429a-8e1f-81bb9de6cbcf",
   "metadata": {},
   "outputs": [
    {
     "name": "stdout",
     "output_type": "stream",
     "text": [
      "[[1 2 3 4]\n",
      " [1 2 3 4]]\n",
      "\n",
      "[[1 2 3 4]\n",
      " [1 2 3 4]]\n",
      "\n",
      "[[0 0 0 0]\n",
      " [0 0 0 0]]\n"
     ]
    }
   ],
   "source": [
    "var21 = np.array([[1,2,3,4],[1,2,3,4]])\n",
    "var22 = np.array([[1,2,3,4],[1,2,3,4]])\n",
    "\n",
    "print(var21)\n",
    "print()\n",
    "print(var22)\n",
    "print()\n",
    "\n",
    "varadd = var21 - var22\n",
    "\n",
    "print(varadd)"
   ]
  },
  {
   "cell_type": "code",
   "execution_count": null,
   "id": "311006d5-2d5b-4981-b1a2-7da11ca46938",
   "metadata": {},
   "outputs": [],
   "source": []
  }
 ],
 "metadata": {
  "kernelspec": {
   "display_name": "Python 3 (ipykernel)",
   "language": "python",
   "name": "python3"
  },
  "language_info": {
   "codemirror_mode": {
    "name": "ipython",
    "version": 3
   },
   "file_extension": ".py",
   "mimetype": "text/x-python",
   "name": "python",
   "nbconvert_exporter": "python",
   "pygments_lexer": "ipython3",
   "version": "3.12.3"
  }
 },
 "nbformat": 4,
 "nbformat_minor": 5
}
