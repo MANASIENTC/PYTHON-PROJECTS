{
 "cells": [
  {
   "cell_type": "code",
   "execution_count": 13,
   "id": "61c58972-3fad-4751-b4df-8243a00cfe54",
   "metadata": {},
   "outputs": [
    {
     "name": "stdout",
     "output_type": "stream",
     "text": [
      "min : 1 2\n",
      "max : 5 4\n"
     ]
    }
   ],
   "source": [
    "import numpy as np\n",
    "var = np.array([3,2,1,4,5,3,2])\n",
    "\n",
    "print(\"min :\", np.min(var),np.argmin(var))\n",
    "print(\"max :\", np.max(var),np.argmax(var))"
   ]
  },
  {
   "cell_type": "code",
   "execution_count": 8,
   "id": "970157b2-455c-4b42-a1c6-3707dab4021b",
   "metadata": {},
   "outputs": [
    {
     "name": "stdout",
     "output_type": "stream",
     "text": [
      "[1 6]\n"
     ]
    }
   ],
   "source": [
    "var1 = np.array([[4,2,1,3],[9,8,7,6]])\n",
    "print(np.min(var1,axis= 1))"
   ]
  },
  {
   "cell_type": "code",
   "execution_count": 10,
   "id": "68cc120c-5d2f-46d6-879d-e48350afa9f5",
   "metadata": {},
   "outputs": [
    {
     "name": "stdout",
     "output_type": "stream",
     "text": [
      "[4 2 1 3]\n"
     ]
    }
   ],
   "source": [
    "var1 = np.array([[4,2,1,3],[9,8,7,6]])\n",
    "print(np.min(var1,axis= 0))"
   ]
  },
  {
   "cell_type": "code",
   "execution_count": 15,
   "id": "fc8aa1ac-d9e1-4503-be74-223834708caf",
   "metadata": {},
   "outputs": [
    {
     "name": "stdout",
     "output_type": "stream",
     "text": [
      "min : 4 0\n",
      "max : 64 3\n",
      "sqrt : [2. 5. 7. 8.]\n"
     ]
    }
   ],
   "source": [
    "var = np.array([4,25,49,64])\n",
    "\n",
    "print(\"min :\", np.min(var),np.argmin(var))\n",
    "print(\"max :\", np.max(var),np.argmax(var))\n",
    "print(\"sqrt :\",np.sqrt(var))"
   ]
  },
  {
   "cell_type": "code",
   "execution_count": null,
   "id": "e5e932da-d6d2-42c2-aa13-60ad5a88d411",
   "metadata": {},
   "outputs": [],
   "source": []
  }
 ],
 "metadata": {
  "kernelspec": {
   "display_name": "Python 3 (ipykernel)",
   "language": "python",
   "name": "python3"
  },
  "language_info": {
   "codemirror_mode": {
    "name": "ipython",
    "version": 3
   },
   "file_extension": ".py",
   "mimetype": "text/x-python",
   "name": "python",
   "nbconvert_exporter": "python",
   "pygments_lexer": "ipython3",
   "version": "3.12.3"
  }
 },
 "nbformat": 4,
 "nbformat_minor": 5
}
