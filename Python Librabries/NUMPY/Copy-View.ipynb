{
 "cells": [
  {
   "cell_type": "code",
   "execution_count": 2,
   "id": "b2ebbfb9-4f03-47c5-a339-55f942fdcb17",
   "metadata": {},
   "outputs": [],
   "source": [
    "#Copy vs View"
   ]
  },
  {
   "cell_type": "code",
   "execution_count": 6,
   "id": "9ba24b99-ec69-432e-b1c1-f83a48c318d4",
   "metadata": {},
   "outputs": [
    {
     "name": "stdout",
     "output_type": "stream",
     "text": [
      "Var : [ 1 40  3  4]\n",
      "Copy : [1 2 3 4]\n"
     ]
    }
   ],
   "source": [
    "import numpy as np\n",
    "var = np.array([1,2,3,4])\n",
    "co = var.copy()\n",
    "\n",
    "var[1]= 40\n",
    "print(\"Var :\",var)\n",
    "print(\"Copy :\",co)"
   ]
  },
  {
   "cell_type": "code",
   "execution_count": 8,
   "id": "2491464f-ff2d-4e42-83be-44faed75cfcb",
   "metadata": {},
   "outputs": [
    {
     "name": "stdout",
     "output_type": "stream",
     "text": [
      "x : [ 9 40  7  6  5]\n",
      "view : [ 9 40  7  6  5]\n"
     ]
    }
   ],
   "source": [
    "x = np.array([9,8,7,6,5])\n",
    "vi = x.view()\n",
    "x[1]=40\n",
    "print(\"x :\", x)\n",
    "print(\"view :\",vi)"
   ]
  },
  {
   "cell_type": "code",
   "execution_count": null,
   "id": "f0e9b3dc-3726-4e72-8f94-304148a5229d",
   "metadata": {},
   "outputs": [],
   "source": []
  }
 ],
 "metadata": {
  "kernelspec": {
   "display_name": "Python 3 (ipykernel)",
   "language": "python",
   "name": "python3"
  },
  "language_info": {
   "codemirror_mode": {
    "name": "ipython",
    "version": 3
   },
   "file_extension": ".py",
   "mimetype": "text/x-python",
   "name": "python",
   "nbconvert_exporter": "python",
   "pygments_lexer": "ipython3",
   "version": "3.12.3"
  }
 },
 "nbformat": 4,
 "nbformat_minor": 5
}
