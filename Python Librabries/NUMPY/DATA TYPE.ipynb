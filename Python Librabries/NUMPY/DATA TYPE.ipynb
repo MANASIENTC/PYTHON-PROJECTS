{
 "cells": [
  {
   "cell_type": "markdown",
   "id": "dfdf60e2-2194-47c8-bbda-8487813155ef",
   "metadata": {},
   "source": [
    "#DATA TYPES"
   ]
  },
  {
   "cell_type": "code",
   "execution_count": 3,
   "id": "0d5e9e3f-0fcc-4a08-8b4d-c3d77c6cce44",
   "metadata": {},
   "outputs": [
    {
     "name": "stdout",
     "output_type": "stream",
     "text": [
      "Data type : int32\n"
     ]
    }
   ],
   "source": [
    "import numpy as np\n",
    "arr= np.array([1,2,3,4,5,12,24,32])\n",
    "print(\"Data type :\", arr.dtype)"
   ]
  },
  {
   "cell_type": "code",
   "execution_count": 4,
   "id": "1df03750-4d53-4971-95a1-7758ce18f693",
   "metadata": {},
   "outputs": [
    {
     "name": "stdout",
     "output_type": "stream",
     "text": [
      "Data type : float64\n"
     ]
    }
   ],
   "source": [
    "arr= np.array([0.1,20.22,35.51,4.5])\n",
    "print(\"Data type :\", arr.dtype)"
   ]
  },
  {
   "cell_type": "code",
   "execution_count": 5,
   "id": "8cf3892b-71aa-4a2a-92a5-11e7d3902a38",
   "metadata": {},
   "outputs": [
    {
     "name": "stdout",
     "output_type": "stream",
     "text": [
      "Data type : <U1\n"
     ]
    }
   ],
   "source": [
    "arr= np.array([\"A\",\"B\",\"C\",\"D\"])\n",
    "print(\"Data type :\", arr.dtype)"
   ]
  },
  {
   "cell_type": "code",
   "execution_count": 6,
   "id": "1d46d222-f5b4-4dec-bda5-0798cf55df80",
   "metadata": {},
   "outputs": [
    {
     "name": "stdout",
     "output_type": "stream",
     "text": [
      "Data type : <U11\n"
     ]
    }
   ],
   "source": [
    "arr= np.array([\"A\",\"B\",\"C\",\"D\",1,2,3,4])\n",
    "print(\"Data type :\", arr.dtype)"
   ]
  },
  {
   "cell_type": "code",
   "execution_count": 12,
   "id": "067cff19-c888-4170-9b93-312ead3968b7",
   "metadata": {},
   "outputs": [
    {
     "name": "stdout",
     "output_type": "stream",
     "text": [
      "Data type : int32\n"
     ]
    }
   ],
   "source": [
    "x = np.array([1,2,3,4,5])\n",
    "print(\"Data type :\", x.dtype)"
   ]
  },
  {
   "cell_type": "code",
   "execution_count": 13,
   "id": "70c1c152-7ef5-413c-9c85-63d0517bc90d",
   "metadata": {},
   "outputs": [
    {
     "name": "stdout",
     "output_type": "stream",
     "text": [
      "Data type : int8\n",
      "[1 2 3 4 5]\n"
     ]
    }
   ],
   "source": [
    "x = np.array([1,2,3,4,5], dtype = np.int8)\n",
    "print(\"Data type :\", x.dtype)\n",
    "print(x)"
   ]
  },
  {
   "cell_type": "code",
   "execution_count": 18,
   "id": "2b43df4c-f83e-4375-ae17-d87d7798a366",
   "metadata": {},
   "outputs": [
    {
     "name": "stdout",
     "output_type": "stream",
     "text": [
      "Data type : float32\n",
      "[1. 2. 3. 4. 5.]\n"
     ]
    }
   ],
   "source": [
    "x = np.array([1,2,3,4,5], dtype = \"f\")\n",
    "print(\"Data type :\", x.dtype)\n",
    "print(x)"
   ]
  },
  {
   "cell_type": "code",
   "execution_count": 19,
   "id": "633329df-bec3-41e1-a3e0-cbb1cd551497",
   "metadata": {},
   "outputs": [
    {
     "name": "stdout",
     "output_type": "stream",
     "text": [
      "Data type : int32\n",
      "Data type : float32\n",
      "[1 2 3 4 5]\n",
      "[1. 2. 3. 4. 5.]\n"
     ]
    }
   ],
   "source": [
    "x2 = np.array([1,2,3,4,5])\n",
    "\n",
    "new = np.float32(x2)\n",
    "\n",
    "print(\"Data type :\", x2.dtype)\n",
    "print(\"Data type :\", new.dtype)\n",
    "\n",
    "print(x2)\n",
    "print(new)"
   ]
  },
  {
   "cell_type": "code",
   "execution_count": 20,
   "id": "30de3158-961a-42a8-84a7-21d349b6c8dd",
   "metadata": {},
   "outputs": [
    {
     "name": "stdout",
     "output_type": "stream",
     "text": [
      "Data type : int32\n",
      "Data type : float32\n",
      "Data type : int32\n",
      "[1 2 3 4 5]\n",
      "[1. 2. 3. 4. 5.]\n",
      "[1 2 3 4 5]\n"
     ]
    }
   ],
   "source": [
    "x2 = np.array([1,2,3,4,5])\n",
    "\n",
    "new = np.float32(x2)\n",
    "\n",
    "new_1 = np.int_(new)\n",
    "\n",
    "print(\"Data type :\", x2.dtype)\n",
    "print(\"Data type :\", new.dtype)\n",
    "print(\"Data type :\", new_1.dtype)\n",
    "\n",
    "print(x2)\n",
    "print(new)\n",
    "print(new_1)"
   ]
  },
  {
   "cell_type": "code",
   "execution_count": 21,
   "id": "18d587f8-e5c2-409a-bb74-80958f57be9f",
   "metadata": {},
   "outputs": [
    {
     "name": "stdout",
     "output_type": "stream",
     "text": [
      "[1 2 3 4 5]\n",
      "[1. 2. 3. 4. 5.]\n"
     ]
    }
   ],
   "source": [
    "x3 = np.array([1,2,3,4,5])\n",
    "\n",
    "new_1 = x2.astype(float)\n",
    "\n",
    "print(x3)\n",
    "print(new_1)\n"
   ]
  },
  {
   "cell_type": "code",
   "execution_count": 23,
   "id": "0831b1e3-7962-4846-b043-648f185f3b84",
   "metadata": {},
   "outputs": [
    {
     "name": "stdout",
     "output_type": "stream",
     "text": [
      "[1.2 2.4 3.2 4.1]\n",
      "[1 2 3 4]\n"
     ]
    }
   ],
   "source": [
    "x5 = np.array([1.2,2.4,3.2,4.1])\n",
    "\n",
    "new_2 = x5.astype(int)\n",
    "\n",
    "print(x5)\n",
    "print(new_2)"
   ]
  },
  {
   "cell_type": "code",
   "execution_count": null,
   "id": "370848e0-1f37-45c5-8a7a-b734ace3de8a",
   "metadata": {},
   "outputs": [],
   "source": []
  }
 ],
 "metadata": {
  "kernelspec": {
   "display_name": "Python 3 (ipykernel)",
   "language": "python",
   "name": "python3"
  },
  "language_info": {
   "codemirror_mode": {
    "name": "ipython",
    "version": 3
   },
   "file_extension": ".py",
   "mimetype": "text/x-python",
   "name": "python",
   "nbconvert_exporter": "python",
   "pygments_lexer": "ipython3",
   "version": "3.12.3"
  }
 },
 "nbformat": 4,
 "nbformat_minor": 5
}
