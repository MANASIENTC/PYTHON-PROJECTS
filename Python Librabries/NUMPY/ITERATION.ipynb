{
 "cells": [
  {
   "cell_type": "code",
   "execution_count": 1,
   "id": "28f2a054-f5c2-4a5b-8df9-d91953ffb08f",
   "metadata": {},
   "outputs": [],
   "source": [
    "import numpy as np"
   ]
  },
  {
   "cell_type": "code",
   "execution_count": 7,
   "id": "b3b19066-77ad-481a-8b57-f61ff3b91280",
   "metadata": {},
   "outputs": [
    {
     "name": "stdout",
     "output_type": "stream",
     "text": [
      "[9 8 7 6 5 4]\n",
      "\n",
      "9\n",
      "8\n",
      "7\n",
      "6\n",
      "5\n",
      "4\n"
     ]
    }
   ],
   "source": [
    "x = np.array([9,8,7,6,5,4])\n",
    "print(x) \n",
    "print()\n",
    "for i in x:\n",
    "    print(i)"
   ]
  },
  {
   "cell_type": "code",
   "execution_count": 10,
   "id": "7faa67a7-5a27-4141-b4c8-b0e4cf80981d",
   "metadata": {},
   "outputs": [
    {
     "name": "stdout",
     "output_type": "stream",
     "text": [
      "[[1 2 3 4]\n",
      " [1 2 3 4]]\n",
      "\n",
      "[1 2 3 4]\n",
      "[1 2 3 4]\n",
      "\n",
      "1\n",
      "2\n",
      "3\n",
      "4\n",
      "1\n",
      "2\n",
      "3\n",
      "4\n"
     ]
    }
   ],
   "source": [
    "var = np.array([[1,2,3,4],[1,2,3,4]])\n",
    "print(var)\n",
    "print()\n",
    "for m in var:\n",
    "    print(m)\n",
    "print()\n",
    "for k in var:\n",
    "    for l in k:\n",
    "        print(l)\n",
    "   "
   ]
  },
  {
   "cell_type": "code",
   "execution_count": 16,
   "id": "24811e75-971f-441b-a8ab-d3f6d7e20caf",
   "metadata": {},
   "outputs": [
    {
     "name": "stdout",
     "output_type": "stream",
     "text": [
      "[[[9 8 7 6]\n",
      "  [1 2 3 4]]]\n",
      "3\n",
      "\n",
      "9\n",
      "8\n",
      "7\n",
      "6\n",
      "1\n",
      "2\n",
      "3\n",
      "4\n"
     ]
    }
   ],
   "source": [
    "var1 = np.array([[[9,8,7,6],[1,2,3,4]]])\n",
    "print(var1)\n",
    "print(var1.ndim)\n",
    "print()\n",
    "for i in var1:\n",
    "    for j in i:\n",
    "        for k in j:\n",
    "            print(k)"
   ]
  },
  {
   "cell_type": "code",
   "execution_count": 19,
   "id": "540339fd-47d1-474f-8f49-fdb176ab3c3e",
   "metadata": {},
   "outputs": [
    {
     "name": "stdout",
     "output_type": "stream",
     "text": [
      "[[[9 8 7 6]\n",
      "  [1 2 3 4]]]\n",
      "3\n",
      "\n",
      "b'9'\n",
      "b'8'\n",
      "b'7'\n",
      "b'6'\n",
      "b'1'\n",
      "b'2'\n",
      "b'3'\n",
      "b'4'\n"
     ]
    }
   ],
   "source": [
    "var2 = np.array([[[9,8,7,6],[1,2,3,4]]])\n",
    "print(var2)\n",
    "print(var2.ndim)\n",
    "print()\n",
    "\n",
    "for i in np.nditer(var2,flags=['buffered'],op_dtypes=['S']):\n",
    "    print(i)"
   ]
  },
  {
   "cell_type": "code",
   "execution_count": 21,
   "id": "33c4d01e-e9e0-42d4-858d-cc1691e5f164",
   "metadata": {},
   "outputs": [
    {
     "name": "stdout",
     "output_type": "stream",
     "text": [
      "[[[9 8 7 6]\n",
      "  [1 2 3 4]]]\n",
      "3\n",
      "\n",
      "(0, 0, 0) 9\n",
      "(0, 0, 1) 8\n",
      "(0, 0, 2) 7\n",
      "(0, 0, 3) 6\n",
      "(0, 1, 0) 1\n",
      "(0, 1, 1) 2\n",
      "(0, 1, 2) 3\n",
      "(0, 1, 3) 4\n"
     ]
    }
   ],
   "source": [
    "var2 = np.array([[[9,8,7,6],[1,2,3,4]]])\n",
    "print(var2)\n",
    "print(var2.ndim)\n",
    "print()\n",
    "\n",
    "for i,d in np.ndenumerate(var2):\n",
    "    print(i,d)"
   ]
  },
  {
   "cell_type": "code",
   "execution_count": null,
   "id": "c6931846-979e-498f-9aa8-83e0162d3c4c",
   "metadata": {},
   "outputs": [],
   "source": []
  }
 ],
 "metadata": {
  "kernelspec": {
   "display_name": "Python 3 (ipykernel)",
   "language": "python",
   "name": "python3"
  },
  "language_info": {
   "codemirror_mode": {
    "name": "ipython",
    "version": 3
   },
   "file_extension": ".py",
   "mimetype": "text/x-python",
   "name": "python",
   "nbconvert_exporter": "python",
   "pygments_lexer": "ipython3",
   "version": "3.12.3"
  }
 },
 "nbformat": 4,
 "nbformat_minor": 5
}
