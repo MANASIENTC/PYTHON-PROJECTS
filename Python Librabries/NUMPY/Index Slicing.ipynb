{
 "cells": [
  {
   "cell_type": "code",
   "execution_count": 8,
   "id": "72323368-531c-4d05-baf4-f7ae949ba225",
   "metadata": {},
   "outputs": [
    {
     "name": "stdout",
     "output_type": "stream",
     "text": [
      "6\n",
      "7\n"
     ]
    }
   ],
   "source": [
    "import numpy as np\n",
    "\n",
    "var = np.array([9,8,7,6])\n",
    "\n",
    "print(var[3])\n",
    "print(var[-2])"
   ]
  },
  {
   "cell_type": "code",
   "execution_count": 20,
   "id": "f7ced0a9-752e-451f-b6ec-31f23dd0785e",
   "metadata": {},
   "outputs": [
    {
     "name": "stdout",
     "output_type": "stream",
     "text": [
      "[[9 8 7]\n",
      " [4 5 6]]\n",
      "2\n",
      "\n",
      "7\n"
     ]
    }
   ],
   "source": [
    "var1 = np.array([[9,8,7],[4,5,6]])\n",
    "print(var1)\n",
    "print(var1.ndim)\n",
    "print()\n",
    "print(var1[0,2])"
   ]
  },
  {
   "cell_type": "code",
   "execution_count": 29,
   "id": "dbdff3be-0ec2-4713-b02e-afe11ff194c4",
   "metadata": {},
   "outputs": [
    {
     "name": "stdout",
     "output_type": "stream",
     "text": [
      "[[[1 2 3]\n",
      "  [6 7 8]]]\n",
      "3\n",
      "\n",
      "8\n"
     ]
    }
   ],
   "source": [
    "var2 = np.array([[[1,2,3],[6,7,8]]])\n",
    "print(var2)\n",
    "print(var2.ndim)\n",
    "print()\n",
    "print(var2[0,1,2])"
   ]
  },
  {
   "cell_type": "code",
   "execution_count": 30,
   "id": "6d490c32-a289-4663-b928-c5d371b27bab",
   "metadata": {},
   "outputs": [],
   "source": [
    "#SLICING"
   ]
  },
  {
   "cell_type": "code",
   "execution_count": 44,
   "id": "c1e4545c-9cd8-4713-833a-9250554b882c",
   "metadata": {},
   "outputs": [
    {
     "name": "stdout",
     "output_type": "stream",
     "text": [
      "[9 8 7 6 5 4 3]\n",
      "1\n",
      "\n",
      "2 to 5 : [8 7 6 5]\n",
      "2 to end :  [8 7 6 5 4 3]\n",
      "Start to 5 : [9 8 7 6]\n",
      "['Stop :', array([8, 6, 4])]\n"
     ]
    }
   ],
   "source": [
    "var4 = np.array([9,8,7,6,5,4,3])\n",
    "#                0,1,2,3,4,5,6\n",
    "print(var4)\n",
    "print(var4.ndim)\n",
    "print()\n",
    "print(\"2 to 5 :\", var4[1:5])\n",
    "print(\"2 to end : \",var4[1:])\n",
    "print(\"Start to 5 :\" , var[:5])\n",
    "print([\"Stop :\", var4 [1:6:2]])"
   ]
  },
  {
   "cell_type": "code",
   "execution_count": 47,
   "id": "5cc535e4-bc24-4450-89fe-35cdcc1edccc",
   "metadata": {},
   "outputs": [
    {
     "name": "stdout",
     "output_type": "stream",
     "text": [
      "[[ 1  2  3  4  5]\n",
      " [ 9  8  7  6  5]\n",
      " [11 12 13 14 15]]\n",
      "\n",
      "8 to 5 : [12 13 14 15]\n"
     ]
    }
   ],
   "source": [
    "x = np.array([[1,2,3,4,5],[9,8,7,6,5],[11,12,13,14,15]])\n",
    "print(x)\n",
    "print()\n",
    "print(\"8 to 5 :\", x[2,1:])"
   ]
  },
  {
   "cell_type": "code",
   "execution_count": null,
   "id": "eceec2bf-2f5b-4960-8357-30ab0fa8b8a7",
   "metadata": {},
   "outputs": [],
   "source": []
  }
 ],
 "metadata": {
  "kernelspec": {
   "display_name": "Python 3 (ipykernel)",
   "language": "python",
   "name": "python3"
  },
  "language_info": {
   "codemirror_mode": {
    "name": "ipython",
    "version": 3
   },
   "file_extension": ".py",
   "mimetype": "text/x-python",
   "name": "python",
   "nbconvert_exporter": "python",
   "pygments_lexer": "ipython3",
   "version": "3.12.3"
  }
 },
 "nbformat": 4,
 "nbformat_minor": 5
}
