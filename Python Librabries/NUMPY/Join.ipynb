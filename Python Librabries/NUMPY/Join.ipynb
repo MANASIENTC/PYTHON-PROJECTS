{
 "cells": [
  {
   "cell_type": "code",
   "execution_count": 1,
   "id": "481641c6-efe4-42b2-8c5d-5afcc853d9ef",
   "metadata": {},
   "outputs": [],
   "source": [
    "#Join Array"
   ]
  },
  {
   "cell_type": "code",
   "execution_count": 3,
   "id": "446a8a5c-c87b-4c75-878d-98480aa74bcf",
   "metadata": {},
   "outputs": [
    {
     "name": "stdout",
     "output_type": "stream",
     "text": [
      "[1 2 3 4 9 8 7 6]\n"
     ]
    }
   ],
   "source": [
    "import numpy as np\n",
    "var  = np.array([1,2,3,4])\n",
    "var1 = np.array([9,8,7,6])\n",
    "arr = np.concatenate((var,var1))\n",
    "print(arr)"
   ]
  },
  {
   "cell_type": "code",
   "execution_count": 9,
   "id": "2e19bda8-8c10-46d0-8b65-a699fd6bafdf",
   "metadata": {},
   "outputs": [
    {
     "name": "stdout",
     "output_type": "stream",
     "text": [
      "[[1 2]\n",
      " [3 4]]\n",
      "\n",
      "[[9 8]\n",
      " [7 6]]\n",
      "\n",
      "[[1 2]\n",
      " [3 4]\n",
      " [9 8]\n",
      " [7 6]]\n"
     ]
    }
   ],
   "source": [
    "vr  = np.array([[1,2],[3,4]])\n",
    "vr1 = np.array([[9,8],[7,6]])\n",
    "\n",
    "arr_new = np.concatenate((vr,vr1),axis =0)\n",
    "\n",
    "print(vr)\n",
    "print()\n",
    "print(vr1)\n",
    "print()\n",
    "print(arr_new)"
   ]
  },
  {
   "cell_type": "code",
   "execution_count": 21,
   "id": "ccf82bc4-a8ef-4370-aa6c-2af345b9b450",
   "metadata": {},
   "outputs": [
    {
     "name": "stdout",
     "output_type": "stream",
     "text": [
      "[[1 2 3 4]\n",
      " [9 8 7 6]]\n",
      "\n",
      "[1 2 3 4 9 8 7 6]\n",
      "\n",
      "[[1 2 3 4]\n",
      " [9 8 7 6]]\n",
      "\n",
      "[[[1 9]\n",
      "  [2 8]\n",
      "  [3 7]\n",
      "  [4 6]]]\n",
      "\n"
     ]
    }
   ],
   "source": [
    "vr_1  = np.array([1,2,3,4])\n",
    "vr_2 = np.array([9,8,7,6])\n",
    "\n",
    "ar_new = np.stack((vr_1,vr_2),axis =0)\n",
    "ar_new1 = np.hstack((vr_1,vr_2)) #row\n",
    "ar_new2 = np.vstack((vr_1,vr_2)) #column\n",
    "ar_new3 = np.dstack((vr_1,vr_2)) #hieght\n",
    "print(ar_new)\n",
    "print()\n",
    "print(ar_new1)\n",
    "print()\n",
    "print(ar_new2)\n",
    "print()\n",
    "print(ar_new3)\n",
    "print()"
   ]
  },
  {
   "cell_type": "code",
   "execution_count": null,
   "id": "ba3753b1-1d5d-43f7-bfec-e230b47b970e",
   "metadata": {},
   "outputs": [],
   "source": []
  }
 ],
 "metadata": {
  "kernelspec": {
   "display_name": "Python 3 (ipykernel)",
   "language": "python",
   "name": "python3"
  },
  "language_info": {
   "codemirror_mode": {
    "name": "ipython",
    "version": 3
   },
   "file_extension": ".py",
   "mimetype": "text/x-python",
   "name": "python",
   "nbconvert_exporter": "python",
   "pygments_lexer": "ipython3",
   "version": "3.12.3"
  }
 },
 "nbformat": 4,
 "nbformat_minor": 5
}
