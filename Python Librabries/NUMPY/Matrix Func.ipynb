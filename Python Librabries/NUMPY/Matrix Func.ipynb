{
 "cells": [
  {
   "cell_type": "markdown",
   "id": "9caacd8e-a824-4767-83d4-e33eaf860c02",
   "metadata": {},
   "source": [
    "# MATRIX FUNCTION IN NUMPY ARRAYS"
   ]
  },
  {
   "cell_type": "code",
   "execution_count": 2,
   "id": "7aece219-676a-4812-8e17-5771b24f153e",
   "metadata": {},
   "outputs": [],
   "source": [
    "# 1. TRANSPOSE\n",
    "# 2. SWAPAXES\n",
    "# 3. INVERSE\n",
    "# 4. POWER\n",
    "# 5. DETERMINATE"
   ]
  },
  {
   "cell_type": "code",
   "execution_count": 3,
   "id": "473df1dc-2bfe-4fab-8050-03f92817b189",
   "metadata": {},
   "outputs": [],
   "source": [
    "# 1. TRANSPOSE"
   ]
  },
  {
   "cell_type": "code",
   "execution_count": 4,
   "id": "1789d19b-24e4-4407-9bfb-ed5498c5fcc9",
   "metadata": {},
   "outputs": [
    {
     "name": "stdout",
     "output_type": "stream",
     "text": [
      "[[1 2 3]\n",
      " [4 5 6]]\n",
      "\n",
      "[[1 4]\n",
      " [2 5]\n",
      " [3 6]]\n",
      "\n",
      "[[1 4]\n",
      " [2 5]\n",
      " [3 6]]\n"
     ]
    }
   ],
   "source": [
    "import numpy as np\n",
    "\n",
    "var = np.matrix([[1,2,3],[4,5,6]])\n",
    "print(var)\n",
    "print()\n",
    "print(np.transpose(var))\n",
    "print()\n",
    "print(var.T)  # T is shortcut of using Transpose "
   ]
  },
  {
   "cell_type": "code",
   "execution_count": 5,
   "id": "8bf2e720-6108-4dce-bb7c-fc769ead1bff",
   "metadata": {},
   "outputs": [],
   "source": [
    "# 2. SWAPAXES"
   ]
  },
  {
   "cell_type": "code",
   "execution_count": 6,
   "id": "16c6a847-1884-45e4-8557-6af2ee73d7b6",
   "metadata": {},
   "outputs": [
    {
     "name": "stdout",
     "output_type": "stream",
     "text": [
      "[[1 2 3]\n",
      " [4 5 6]]\n",
      "\n",
      "[[1 4]\n",
      " [2 5]\n",
      " [3 6]]\n"
     ]
    }
   ],
   "source": [
    "var_1 = np.matrix([[1,2,3],[4,5,6]])\n",
    "print(var_1)\n",
    "print()\n",
    "print(np.swapaxes(var_1,0,1))"
   ]
  },
  {
   "cell_type": "code",
   "execution_count": 7,
   "id": "d7dbcdaf-b3c0-419c-988b-9371bb58d669",
   "metadata": {},
   "outputs": [
    {
     "name": "stdout",
     "output_type": "stream",
     "text": [
      "[[1 2]\n",
      " [3 4]]\n",
      "\n",
      "[[1 3]\n",
      " [2 4]]\n"
     ]
    }
   ],
   "source": [
    "var_2 = np.matrix([[1,2],[3,4]])\n",
    "print(var_2)\n",
    "print()\n",
    "print(np.swapaxes(var_2,0,1))"
   ]
  },
  {
   "cell_type": "code",
   "execution_count": 8,
   "id": "02ad35e2-7b43-48b1-99a9-78474c5e7a58",
   "metadata": {},
   "outputs": [],
   "source": [
    "# 3. INVERSE"
   ]
  },
  {
   "cell_type": "code",
   "execution_count": 9,
   "id": "fe6330e1-6f96-4dcb-a8d5-ce00c5655c76",
   "metadata": {},
   "outputs": [
    {
     "name": "stdout",
     "output_type": "stream",
     "text": [
      "[[1 2]\n",
      " [3 4]]\n",
      "\n",
      "[[-2.   1. ]\n",
      " [ 1.5 -0.5]]\n"
     ]
    }
   ],
   "source": [
    "var_3 = np.matrix([[1,2],[3,4]])\n",
    "print(var_3)\n",
    "print()\n",
    "print(np.linalg.inv(var_3))"
   ]
  },
  {
   "cell_type": "code",
   "execution_count": 10,
   "id": "0b17d815-a7a2-481b-881b-782c5c0ac83c",
   "metadata": {},
   "outputs": [],
   "source": [
    "# 4. POWER"
   ]
  },
  {
   "cell_type": "code",
   "execution_count": 11,
   "id": "0161f6f3-f486-4541-bc00-5115056a9a5a",
   "metadata": {},
   "outputs": [
    {
     "name": "stdout",
     "output_type": "stream",
     "text": [
      "[[1 2]\n",
      " [3 4]]\n",
      "\n",
      "[[ 7 10]\n",
      " [15 22]]\n",
      "\n",
      "[[1 0]\n",
      " [0 1]]\n",
      "\n",
      "[[ 5.5  -2.5 ]\n",
      " [-3.75  1.75]]\n",
      "\n"
     ]
    }
   ],
   "source": [
    "var_4 = np.matrix([[1,2],[3,4]])\n",
    "print(var_4)\n",
    "print()\n",
    "print(np.linalg.matrix_power(var_4,2))\n",
    "print()\n",
    "print(np.linalg.matrix_power(var_4,0))\n",
    "print()\n",
    "print(np.linalg.matrix_power(var_4,-2))\n",
    "print()"
   ]
  },
  {
   "cell_type": "code",
   "execution_count": 12,
   "id": "9f119691-b83d-42c8-a84a-7e9390630a13",
   "metadata": {},
   "outputs": [],
   "source": [
    "# 5. DETERMINATE"
   ]
  },
  {
   "cell_type": "code",
   "execution_count": 13,
   "id": "558d3fb8-a928-4947-9f27-19d17155a0a0",
   "metadata": {},
   "outputs": [
    {
     "name": "stdout",
     "output_type": "stream",
     "text": [
      "[[1 2 3]\n",
      " [3 4 5]\n",
      " [1 2 3]]\n",
      "\n",
      "0.0\n"
     ]
    }
   ],
   "source": [
    "var_5 = np.matrix([[1,2,3],[3,4,5],[1,2,3]])\n",
    "print(var_5)\n",
    "print()\n",
    "print(np.linalg.det(var_5))"
   ]
  },
  {
   "cell_type": "code",
   "execution_count": null,
   "id": "86d29603-e531-440d-83f8-48b25c45be22",
   "metadata": {},
   "outputs": [],
   "source": []
  }
 ],
 "metadata": {
  "kernelspec": {
   "display_name": "Python 3 (ipykernel)",
   "language": "python",
   "name": "python3"
  },
  "language_info": {
   "codemirror_mode": {
    "name": "ipython",
    "version": 3
   },
   "file_extension": ".py",
   "mimetype": "text/x-python",
   "name": "python",
   "nbconvert_exporter": "python",
   "pygments_lexer": "ipython3",
   "version": "3.12.3"
  }
 },
 "nbformat": 4,
 "nbformat_minor": 5
}
