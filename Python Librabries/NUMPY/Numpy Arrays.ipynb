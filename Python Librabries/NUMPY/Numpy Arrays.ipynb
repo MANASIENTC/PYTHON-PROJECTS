{
 "cells": [
  {
   "cell_type": "markdown",
   "id": "f149473c-12af-4c7e-835b-dc5002895d67",
   "metadata": {},
   "source": [
    "ZEROS"
   ]
  },
  {
   "cell_type": "code",
   "execution_count": 4,
   "id": "762f826d-6199-40b3-b1dd-db22487616c9",
   "metadata": {},
   "outputs": [
    {
     "name": "stdout",
     "output_type": "stream",
     "text": [
      "[0. 0. 0. 0. 0.]\n",
      "\n",
      "[[0. 0. 0. 0.]\n",
      " [0. 0. 0. 0.]\n",
      " [0. 0. 0. 0.]]\n"
     ]
    }
   ],
   "source": [
    "import numpy as np \n",
    "arr_zero = np.zeros(5)\n",
    "arr_zero1 = np.zeros((3,4))\n",
    "print(arr_zero)\n",
    "print()\n",
    "print(arr_zero1)"
   ]
  },
  {
   "cell_type": "markdown",
   "id": "6a86555e-400d-43b7-99f9-e18551facf6e",
   "metadata": {},
   "source": [
    "ONE'S"
   ]
  },
  {
   "cell_type": "code",
   "execution_count": 7,
   "id": "7200ca77-38a3-45bd-87f9-f7e3d9db15b4",
   "metadata": {},
   "outputs": [
    {
     "name": "stdout",
     "output_type": "stream",
     "text": [
      "[1. 1. 1. 1.]\n",
      "\n",
      "[[1. 1. 1.]\n",
      " [1. 1. 1.]\n",
      " [1. 1. 1.]\n",
      " [1. 1. 1.]]\n"
     ]
    }
   ],
   "source": [
    " arr_one = np.ones(4)\n",
    "arr_one1= np.ones((4,3))\n",
    "print(arr_one)\n",
    "print()\n",
    "print(arr_one1)"
   ]
  },
  {
   "cell_type": "markdown",
   "id": "29d3dbd1-6eba-4a8c-a997-d629a0aedbe9",
   "metadata": {},
   "source": [
    "#EMPTY"
   ]
  },
  {
   "cell_type": "code",
   "execution_count": 8,
   "id": "de5fe79a-2e89-4ee0-9fc0-6d5ed4e30e02",
   "metadata": {},
   "outputs": [
    {
     "name": "stdout",
     "output_type": "stream",
     "text": [
      "[1. 1. 1. 1.]\n"
     ]
    }
   ],
   "source": [
    "arr_em = np.empty(4)\n",
    "print(arr_em)"
   ]
  },
  {
   "cell_type": "code",
   "execution_count": null,
   "id": "429d5a7f-ed4c-4b84-936b-a871578f7d13",
   "metadata": {},
   "outputs": [],
   "source": [
    "#RANGE"
   ]
  },
  {
   "cell_type": "code",
   "execution_count": 10,
   "id": "26f95a8e-f167-41b5-9793-24abe924374e",
   "metadata": {},
   "outputs": [
    {
     "name": "stdout",
     "output_type": "stream",
     "text": [
      "[0 1 2 3]\n"
     ]
    }
   ],
   "source": [
    "arr_rn = np.arange(4)\n",
    "print(arr_rn)"
   ]
  },
  {
   "cell_type": "code",
   "execution_count": null,
   "id": "9601e9ab-e75d-49b8-95e8-4aef8f60cc39",
   "metadata": {},
   "outputs": [],
   "source": [
    " #DIAGONAL"
   ]
  },
  {
   "cell_type": "code",
   "execution_count": 11,
   "id": "dad33bde-0e2a-4c38-939b-62ceb9457520",
   "metadata": {},
   "outputs": [
    {
     "name": "stdout",
     "output_type": "stream",
     "text": [
      "[[1. 0. 0.]\n",
      " [0. 1. 0.]\n",
      " [0. 0. 1.]]\n"
     ]
    }
   ],
   "source": [
    "arr_dia = np.eye(3)\n",
    "print(arr_dia)"
   ]
  },
  {
   "cell_type": "code",
   "execution_count": 12,
   "id": "14dcee2c-7312-48cf-827b-f2d5175ff036",
   "metadata": {},
   "outputs": [
    {
     "name": "stdout",
     "output_type": "stream",
     "text": [
      "[[1. 0. 0. 0. 0.]\n",
      " [0. 1. 0. 0. 0.]\n",
      " [0. 0. 1. 0. 0.]]\n"
     ]
    }
   ],
   "source": [
    "arr_dia = np.eye(3,5)\n",
    "print(arr_dia)"
   ]
  },
  {
   "cell_type": "code",
   "execution_count": null,
   "id": "9d5696d9-2ac3-407a-96aa-2e09c8204b4c",
   "metadata": {},
   "outputs": [],
   "source": [
    "#LINSPACE"
   ]
  },
  {
   "cell_type": "code",
   "execution_count": 18,
   "id": "4eb4ba39-8422-44b6-bc9a-462d1a030153",
   "metadata": {},
   "outputs": [
    {
     "name": "stdout",
     "output_type": "stream",
     "text": [
      "[ 0.  5. 10. 15. 20.]\n"
     ]
    }
   ],
   "source": [
    "arr_lin = np.linspace(0,20,num =5)\n",
    "print(arr_lin)\n"
   ]
  },
  {
   "cell_type": "code",
   "execution_count": null,
   "id": "5cd50141-105e-4b0a-a9f0-a073d870b8bc",
   "metadata": {},
   "outputs": [],
   "source": []
  }
 ],
 "metadata": {
  "kernelspec": {
   "display_name": "Python 3 (ipykernel)",
   "language": "python",
   "name": "python3"
  },
  "language_info": {
   "codemirror_mode": {
    "name": "ipython",
    "version": 3
   },
   "file_extension": ".py",
   "mimetype": "text/x-python",
   "name": "python",
   "nbconvert_exporter": "python",
   "pygments_lexer": "ipython3",
   "version": "3.12.3"
  }
 },
 "nbformat": 4,
 "nbformat_minor": 5
}
