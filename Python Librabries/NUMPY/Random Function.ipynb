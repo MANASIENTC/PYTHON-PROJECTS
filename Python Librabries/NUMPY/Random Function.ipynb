{
 "cells": [
  {
   "cell_type": "code",
   "execution_count": null,
   "id": "36134a08-cc3a-4205-b436-de5bf21224bf",
   "metadata": {},
   "outputs": [],
   "source": [
    "#RANDOM"
   ]
  },
  {
   "cell_type": "code",
   "execution_count": null,
   "id": "87fb8299-4244-4263-a6a0-8a66fa759adc",
   "metadata": {},
   "outputs": [],
   "source": [
    "#Rand()"
   ]
  },
  {
   "cell_type": "code",
   "execution_count": 5,
   "id": "0b0d3aa8-8b6d-4e6b-898f-cddbfdd34f2f",
   "metadata": {},
   "outputs": [
    {
     "name": "stdout",
     "output_type": "stream",
     "text": [
      "[0.29529645 0.73584303 0.87176061 0.04366705]\n"
     ]
    }
   ],
   "source": [
    "import numpy as np\n",
    "var = np.random.rand(4)\n",
    "print(var)"
   ]
  },
  {
   "cell_type": "code",
   "execution_count": 7,
   "id": "735559e7-d481-4e96-ab95-03c38ba73e19",
   "metadata": {},
   "outputs": [
    {
     "name": "stdout",
     "output_type": "stream",
     "text": [
      "[[0.80492764 0.51703277]\n",
      " [0.97149002 0.43730268]\n",
      " [0.90188303 0.73040004]]\n"
     ]
    }
   ],
   "source": [
    "var1 = np.random.rand(3,2)\n",
    "print(var1)"
   ]
  },
  {
   "cell_type": "code",
   "execution_count": null,
   "id": "dbe07a4e-11ef-4675-8827-bc9e3d0cc0b9",
   "metadata": {},
   "outputs": [],
   "source": [
    "#RANDN()"
   ]
  },
  {
   "cell_type": "code",
   "execution_count": 8,
   "id": "50c1dd7b-a869-49fd-ae1b-d32a60d17f94",
   "metadata": {},
   "outputs": [
    {
     "name": "stdout",
     "output_type": "stream",
     "text": [
      "[-0.91141244 -1.58434519  1.96379147 -0.29532216 -0.85745045]\n"
     ]
    }
   ],
   "source": [
    "var2 = np.random.randn(5)\n",
    "print(var2)"
   ]
  },
  {
   "cell_type": "code",
   "execution_count": null,
   "id": "4243b306-f1d5-4454-8f30-4f28346272cd",
   "metadata": {},
   "outputs": [],
   "source": [
    "#RANF()"
   ]
  },
  {
   "cell_type": "code",
   "execution_count": 9,
   "id": "54636f03-87c8-45fb-a0c5-60483052758e",
   "metadata": {},
   "outputs": [
    {
     "name": "stdout",
     "output_type": "stream",
     "text": [
      "[0.4006638  0.6254319  0.26204023 0.49328091]\n"
     ]
    }
   ],
   "source": [
    "var3 = np.random.ranf(4)\n",
    "print(var3)"
   ]
  },
  {
   "cell_type": "code",
   "execution_count": null,
   "id": "54d3dac3-ca55-47a7-bed4-17925566e9d7",
   "metadata": {},
   "outputs": [],
   "source": [
    "#RANDINT()"
   ]
  },
  {
   "cell_type": "code",
   "execution_count": 11,
   "id": "9ecad59c-ef93-4a35-b1a8-60cac8760684",
   "metadata": {},
   "outputs": [
    {
     "name": "stdout",
     "output_type": "stream",
     "text": [
      "[17 10  5  9 11]\n"
     ]
    }
   ],
   "source": [
    "var4 = np.random.randint(5,20,5)\n",
    "print(var4)"
   ]
  },
  {
   "cell_type": "code",
   "execution_count": null,
   "id": "e5312e4a-cf0e-4244-9fb7-4088c5426ac3",
   "metadata": {},
   "outputs": [],
   "source": []
  }
 ],
 "metadata": {
  "kernelspec": {
   "display_name": "Python 3 (ipykernel)",
   "language": "python",
   "name": "python3"
  },
  "language_info": {
   "codemirror_mode": {
    "name": "ipython",
    "version": 3
   },
   "file_extension": ".py",
   "mimetype": "text/x-python",
   "name": "python",
   "nbconvert_exporter": "python",
   "pygments_lexer": "ipython3",
   "version": "3.12.3"
  }
 },
 "nbformat": 4,
 "nbformat_minor": 5
}
