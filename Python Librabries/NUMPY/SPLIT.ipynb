{
 "cells": [
  {
   "cell_type": "code",
   "execution_count": 1,
   "id": "f3d5910f-e08a-47c7-8a17-27634843a7df",
   "metadata": {},
   "outputs": [],
   "source": [
    "#Split Array"
   ]
  },
  {
   "cell_type": "code",
   "execution_count": 8,
   "id": "fed47f3f-cbb2-44b9-96dc-a83fa5c3d39b",
   "metadata": {},
   "outputs": [
    {
     "name": "stdout",
     "output_type": "stream",
     "text": [
      "[1 2 3 4 5 6]\n",
      "\n",
      "[array([1, 2]), array([3, 4]), array([5, 6])]\n",
      "<class 'list'>\n"
     ]
    }
   ],
   "source": [
    "import numpy as np\n",
    "var = np.array([1,2,3,4,5,6])\n",
    "print(var)\n",
    "arr = np.array_split(var,3)\n",
    "print()\n",
    "print(arr)\n",
    "print(type(arr))"
   ]
  },
  {
   "cell_type": "code",
   "execution_count": 10,
   "id": "3726514f-91f6-4373-9513-faa1b01dec3a",
   "metadata": {},
   "outputs": [
    {
     "name": "stdout",
     "output_type": "stream",
     "text": [
      "[1 2 3 4 5 6]\n",
      "\n",
      "[array([[1, 2]]), array([[3, 4]]), array([[5, 6]])]\n",
      "\n",
      "[array([[1],\n",
      "       [3],\n",
      "       [5]]), array([[2],\n",
      "       [4],\n",
      "       [6]]), array([], shape=(3, 0), dtype=int32)]\n"
     ]
    }
   ],
   "source": [
    "var_1 = np.array([[1,2,],[3,4],[5,6]])\n",
    "print(var)\n",
    "\n",
    "arr1 = np.array_split(var_1,3)\n",
    "arr2 = np.array_split(var_1,3,axis =1)\n",
    "print()\n",
    "print(arr1)\n",
    "print()\n",
    "print(arr2)\n"
   ]
  },
  {
   "cell_type": "code",
   "execution_count": null,
   "id": "8e49985e-7a77-407c-97ae-87f0454390ba",
   "metadata": {},
   "outputs": [],
   "source": []
  }
 ],
 "metadata": {
  "kernelspec": {
   "display_name": "Python 3 (ipykernel)",
   "language": "python",
   "name": "python3"
  },
  "language_info": {
   "codemirror_mode": {
    "name": "ipython",
    "version": 3
   },
   "file_extension": ".py",
   "mimetype": "text/x-python",
   "name": "python",
   "nbconvert_exporter": "python",
   "pygments_lexer": "ipython3",
   "version": "3.12.3"
  }
 },
 "nbformat": 4,
 "nbformat_minor": 5
}
