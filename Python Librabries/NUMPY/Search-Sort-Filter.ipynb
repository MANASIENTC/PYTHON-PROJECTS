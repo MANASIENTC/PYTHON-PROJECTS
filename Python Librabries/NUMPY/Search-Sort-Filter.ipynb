{
 "cells": [
  {
   "cell_type": "code",
   "execution_count": 2,
   "id": "cf5b3054-2adf-4480-920f-b45b28b4d41c",
   "metadata": {},
   "outputs": [],
   "source": [
    "#SEARCH"
   ]
  },
  {
   "cell_type": "code",
   "execution_count": 8,
   "id": "d99b4d1a-592e-44d9-9115-096ae44b770d",
   "metadata": {},
   "outputs": [
    {
     "name": "stdout",
     "output_type": "stream",
     "text": [
      "(array([1, 3, 4, 6, 8], dtype=int64),)\n"
     ]
    }
   ],
   "source": [
    "import numpy as np\n",
    "var = np.array([1,2,3,4,2,5,2,5,6,7,3])\n",
    "#               0,1,2,3,4,5,6,7,8,9,10\n",
    "x = np.where((var % 2) == 0)\n",
    "print(x)"
   ]
  },
  {
   "cell_type": "code",
   "execution_count": 9,
   "id": "04f404a6-f8b7-452b-94ae-34442d32f641",
   "metadata": {},
   "outputs": [],
   "source": [
    "#Seach Sorted Array"
   ]
  },
  {
   "cell_type": "code",
   "execution_count": 16,
   "id": "8899877c-7f98-4b49-94fa-b70d6e270967",
   "metadata": {},
   "outputs": [
    {
     "name": "stdout",
     "output_type": "stream",
     "text": [
      "[4 4 4]\n"
     ]
    }
   ],
   "source": [
    "var_1 = np.array([1,2,3,4,9,10])\n",
    "#                 0,1,2,3,4,5,6,\n",
    "x1 = np.searchsorted(var_1 , [5,6,7],side='right') \n",
    "print(x1)"
   ]
  },
  {
   "cell_type": "code",
   "execution_count": 17,
   "id": "00dd5ea8-483e-4d99-b97b-ffce5c00cd91",
   "metadata": {},
   "outputs": [],
   "source": [
    "#SORT ARRAY"
   ]
  },
  {
   "cell_type": "code",
   "execution_count": 24,
   "id": "744513fb-0e72-47ef-8982-a706d2f47068",
   "metadata": {},
   "outputs": [
    {
     "name": "stdout",
     "output_type": "stream",
     "text": [
      "[ 1  2  3  4  5 12 16 21 22 45 65]\n"
     ]
    }
   ],
   "source": [
    "var_2 = np.array([4,3,2,1,12,5,22,45,16,65,21])\n",
    "#                 0,1,2,3,4,5,6,7,8,9,10\n",
    "print(np.sort(var_2))\n"
   ]
  },
  {
   "cell_type": "code",
   "execution_count": 25,
   "id": "2ae573d7-05a2-4906-b592-e9d990138c66",
   "metadata": {},
   "outputs": [
    {
     "name": "stdout",
     "output_type": "stream",
     "text": [
      "[[ 2  3  4]\n",
      " [ 1  5 12]\n",
      " [16 22 45]]\n"
     ]
    }
   ],
   "source": [
    "var_2 = np.array([[4,3,2],[1,12,5],[22,45,16]])\n",
    "#                 0,1,2,3,4,5,6,7,8,9,10\n",
    "print(np.sort(var_2))"
   ]
  },
  {
   "cell_type": "code",
   "execution_count": 22,
   "id": "670aeab0-e8d1-4d4b-a372-7fb4001d5f40",
   "metadata": {},
   "outputs": [
    {
     "name": "stdout",
     "output_type": "stream",
     "text": [
      "['a' 'a' 'i' 'm' 'n' 's']\n"
     ]
    }
   ],
   "source": [
    "var_3 = np.array(['m','a','n','a','s','i'])\n",
    "#                 0,1,2,3,4,5,6,7,8,9,10\n",
    "print(np.sort(var_3))"
   ]
  },
  {
   "cell_type": "code",
   "execution_count": 26,
   "id": "30bf525d-a508-4262-9d8f-4a1f50d014c9",
   "metadata": {},
   "outputs": [],
   "source": [
    "#FILTER ARRAY"
   ]
  },
  {
   "cell_type": "code",
   "execution_count": 35,
   "id": "8971ebf8-f5f6-44f8-a206-437af7629971",
   "metadata": {},
   "outputs": [
    {
     "name": "stdout",
     "output_type": "stream",
     "text": [
      "['m' 'u']\n",
      "<class 'numpy.ndarray'>\n"
     ]
    }
   ],
   "source": [
    "x = np.array(['m','a','n','u'])\n",
    "\n",
    "m = [True,False,False,True]\n",
    "new_a = x[m]\n",
    "\n",
    "print(new_a)\n",
    "print(type(new_a))"
   ]
  },
  {
   "cell_type": "code",
   "execution_count": null,
   "id": "bb935fd8-b562-4356-adf1-d3e51ba22087",
   "metadata": {},
   "outputs": [],
   "source": []
  }
 ],
 "metadata": {
  "kernelspec": {
   "display_name": "Python 3 (ipykernel)",
   "language": "python",
   "name": "python3"
  },
  "language_info": {
   "codemirror_mode": {
    "name": "ipython",
    "version": 3
   },
   "file_extension": ".py",
   "mimetype": "text/x-python",
   "name": "python",
   "nbconvert_exporter": "python",
   "pygments_lexer": "ipython3",
   "version": "3.12.3"
  }
 },
 "nbformat": 4,
 "nbformat_minor": 5
}
