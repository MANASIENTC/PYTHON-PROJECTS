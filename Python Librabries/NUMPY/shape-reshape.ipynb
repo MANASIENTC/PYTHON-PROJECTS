{
 "cells": [
  {
   "cell_type": "code",
   "execution_count": 1,
   "id": "85c9cfc7-702b-403e-b183-3c5e386a9883",
   "metadata": {},
   "outputs": [],
   "source": [
    "#SHAPE"
   ]
  },
  {
   "cell_type": "code",
   "execution_count": 33,
   "id": "4ed99757-06b9-4226-ae00-347f3eccd888",
   "metadata": {},
   "outputs": [
    {
     "name": "stdout",
     "output_type": "stream",
     "text": [
      "[[1 2 3 4 5]\n",
      " [1 2 3 4 5]]\n",
      "\n",
      "(2, 5)\n"
     ]
    }
   ],
   "source": [
    "import numpy as np\n",
    "var = np.array([[1,2,3,4,5],[1,2,3,4,5]])\n",
    "print(var)\n",
    "print()\n",
    "print(var.shape)\n"
   ]
  },
  {
   "cell_type": "code",
   "execution_count": 20,
   "id": "0a82eac1-f7dd-4292-9038-7d0c7f67a736",
   "metadata": {},
   "outputs": [
    {
     "name": "stdout",
     "output_type": "stream",
     "text": [
      "[[[[[1 2 3 4]]]]]\n",
      "5\n",
      "\n",
      "(1, 1, 1, 1, 4)\n"
     ]
    }
   ],
   "source": [
    "var1 = np.array([1,2,3,4],ndmin = 5)\n",
    "print(var1)\n",
    "print(var1.ndim)\n",
    "print()\n",
    "print(var1.shape)"
   ]
  },
  {
   "cell_type": "code",
   "execution_count": 21,
   "id": "22dc3f2b-8daf-4bd6-a193-8d416ee1bbfb",
   "metadata": {},
   "outputs": [],
   "source": [
    "#RESHAPE"
   ]
  },
  {
   "cell_type": "code",
   "execution_count": 34,
   "id": "103a6777-f7fb-4625-851c-f85cc4a3439f",
   "metadata": {},
   "outputs": [
    {
     "name": "stdout",
     "output_type": "stream",
     "text": [
      "[1 2 3 4 5 6 1 2 3]\n",
      "1\n",
      "\n",
      "[[1 2 3]\n",
      " [4 5 6]\n",
      " [1 2 3]]\n",
      "2\n"
     ]
    }
   ],
   "source": [
    "var2 =  np.array([1,2,3,4,5,6,1,2,3])\n",
    "print(var2)\n",
    "print(var2.ndim)\n",
    "print()\n",
    "x = var2.reshape(3,3)\n",
    "print(x)\n",
    "print(x.ndim)"
   ]
  },
  {
   "cell_type": "code",
   "execution_count": 38,
   "id": "ee2e7081-e25d-4e41-87b9-0221c00bebc9",
   "metadata": {},
   "outputs": [
    {
     "name": "stdout",
     "output_type": "stream",
     "text": [
      "[ 1  2  3  4  5  6  7  8  9 10 11 12]\n",
      "1\n",
      "\n",
      "[[[ 1  2]\n",
      "  [ 3  4]\n",
      "  [ 5  6]]\n",
      "\n",
      " [[ 7  8]\n",
      "  [ 9 10]\n",
      "  [11 12]]]\n",
      "3\n"
     ]
    }
   ],
   "source": [
    "var3 =  np.array([1,2,3,4,5,6,7,8,9,10,11,12])\n",
    "print(var3)\n",
    "print(var3.ndim)\n",
    "print()\n",
    "x1 = var3.reshape(2,3,2)\n",
    "print(x1)\n",
    "print(x1.ndim)\n"
   ]
  },
  {
   "cell_type": "code",
   "execution_count": 39,
   "id": "6a661c5e-6de2-4355-bd8a-6d17453d879a",
   "metadata": {},
   "outputs": [
    {
     "name": "stdout",
     "output_type": "stream",
     "text": [
      "[ 1  2  3  4  5  6  7  8  9 10 11 12]\n",
      "1\n",
      "\n",
      "[[[ 1  2]\n",
      "  [ 3  4]\n",
      "  [ 5  6]]\n",
      "\n",
      " [[ 7  8]\n",
      "  [ 9 10]\n",
      "  [11 12]]]\n",
      "3\n",
      "\n",
      "[ 1  2  3  4  5  6  7  8  9 10 11 12]\n",
      "1\n"
     ]
    }
   ],
   "source": [
    "var4 =  np.array([1,2,3,4,5,6,7,8,9,10,11,12])\n",
    "print(var4)\n",
    "print(var4.ndim)\n",
    "print()\n",
    "x2 = var4.reshape(2,3,2)\n",
    "print(x2)\n",
    "print(x2.ndim)\n",
    "\n",
    "print()\n",
    "\n",
    "one = x2.reshape(-1)\n",
    "print(one)\n",
    "print(one.ndim)"
   ]
  },
  {
   "cell_type": "code",
   "execution_count": null,
   "id": "520ddaf3-cd0b-4159-8496-b7c438a372b6",
   "metadata": {},
   "outputs": [],
   "source": []
  }
 ],
 "metadata": {
  "kernelspec": {
   "display_name": "Python 3 (ipykernel)",
   "language": "python",
   "name": "python3"
  },
  "language_info": {
   "codemirror_mode": {
    "name": "ipython",
    "version": 3
   },
   "file_extension": ".py",
   "mimetype": "text/x-python",
   "name": "python",
   "nbconvert_exporter": "python",
   "pygments_lexer": "ipython3",
   "version": "3.12.3"
  }
 },
 "nbformat": 4,
 "nbformat_minor": 5
}
