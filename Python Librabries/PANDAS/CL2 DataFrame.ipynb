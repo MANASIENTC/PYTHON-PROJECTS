{
 "cells": [
  {
   "cell_type": "code",
   "execution_count": 1,
   "id": "3e556b14-1a94-4110-bd97-335865bb97b5",
   "metadata": {},
   "outputs": [
    {
     "name": "stdout",
     "output_type": "stream",
     "text": [
      "<class 'pandas.core.frame.DataFrame'>\n"
     ]
    }
   ],
   "source": [
    "import pandas as pd\n",
    "\n",
    "l= [1,2,3,4,5,6]\n",
    "var = pd.DataFrame(l)\n",
    "print (type(var)) "
   ]
  },
  {
   "cell_type": "code",
   "execution_count": 2,
   "id": "0a54ed60-b41b-4051-a342-bd06776d6de8",
   "metadata": {},
   "outputs": [
    {
     "name": "stdout",
     "output_type": "stream",
     "text": [
      "<class 'pandas.core.frame.DataFrame'>\n",
      "   a\n",
      "0  1\n",
      "1  2\n",
      "2  3\n",
      "3  4\n",
      "4  5\n"
     ]
    }
   ],
   "source": [
    "d = {\"a\":[1,2,3,4,5], \"s\" :[1,2,3,4,5]}\n",
    "var1 = pd.DataFrame(d, columns=[\"a\"])\n",
    "print (type(var1))\n",
    "print(var1)"
   ]
  },
  {
   "cell_type": "code",
   "execution_count": 3,
   "id": "e6f96047-d8eb-4a2a-98b0-70cd961bae30",
   "metadata": {},
   "outputs": [
    {
     "name": "stdout",
     "output_type": "stream",
     "text": [
      "<class 'pandas.core.frame.DataFrame'>\n",
      "    a  s  d  1\n",
      "0   1  1  1  1\n",
      "1   2  2  2  2\n",
      "2   3  3  3  3\n",
      "3  14  4  4  4\n",
      "4   5  5  5  5\n",
      "14\n"
     ]
    }
   ],
   "source": [
    "M = {\"a\":[1,2,3,14,5], \"s\":[1,2,3,4,5],\"d\":[1,2,3,4,5], 1:[1,2,3,4,5]}\n",
    "var2 = pd.DataFrame(M)\n",
    "\n",
    "print(type(var2))\n",
    "print(var2)\n",
    "print(var2[\"a\"][3])"
   ]
  },
  {
   "cell_type": "code",
   "execution_count": 4,
   "id": "7922b8b4-d696-430a-a619-f1720d888f6e",
   "metadata": {},
   "outputs": [
    {
     "name": "stdout",
     "output_type": "stream",
     "text": [
      "<class 'pandas.core.frame.DataFrame'>\n",
      "    0   1   2   3   4\n",
      "0   1   2   3   4   5\n",
      "1  11  12  13  14  15\n"
     ]
    }
   ],
   "source": [
    "list =[[1,2,3,4,5],[11,12,13,14,15]]\n",
    "var3 = pd.DataFrame(list)\n",
    "print(type(var3))\n",
    "print(var3)"
   ]
  },
  {
   "cell_type": "code",
   "execution_count": 8,
   "id": "ecb62660-a953-4659-beab-65a0669487bf",
   "metadata": {},
   "outputs": [
    {
     "name": "stdout",
     "output_type": "stream",
     "text": [
      "<class 'pandas.core.frame.DataFrame'>\n",
      "   s  r\n",
      "0  1  1\n",
      "1  2  2\n",
      "2  3  3\n",
      "3  4  4\n"
     ]
    }
   ],
   "source": [
    "sr = {\"s\" :pd.Series([1,2,3,4]),\"r\":pd.Series([1,2,3,4])}\n",
    "var4 = pd.DataFrame(sr)\n",
    "print(type(var4))\n",
    "print(var4)"
   ]
  },
  {
   "cell_type": "code",
   "execution_count": null,
   "id": "b60dd486-dcfa-4dab-b192-61a95d35fa56",
   "metadata": {},
   "outputs": [],
   "source": []
  }
 ],
 "metadata": {
  "kernelspec": {
   "display_name": "Python 3 (ipykernel)",
   "language": "python",
   "name": "python3"
  },
  "language_info": {
   "codemirror_mode": {
    "name": "ipython",
    "version": 3
   },
   "file_extension": ".py",
   "mimetype": "text/x-python",
   "name": "python",
   "nbconvert_exporter": "python",
   "pygments_lexer": "ipython3",
   "version": "3.12.3"
  }
 },
 "nbformat": 4,
 "nbformat_minor": 5
}
