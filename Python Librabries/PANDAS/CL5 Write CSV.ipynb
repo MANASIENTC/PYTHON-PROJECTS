{
 "cells": [
  {
   "cell_type": "markdown",
   "id": "07e92760-9358-44cc-bacf-d27a53d561f3",
   "metadata": {},
   "source": [
    "# WRITE CSV"
   ]
  },
  {
   "cell_type": "code",
   "execution_count": 1,
   "id": "e6d45080-8458-43d0-95ef-4f99f5dd68dd",
   "metadata": {},
   "outputs": [
    {
     "name": "stdout",
     "output_type": "stream",
     "text": [
      "   a  s  d\n",
      "0  1  1  1\n",
      "1  2  2  2\n",
      "2  3  3  3\n",
      "3  4  4  4\n",
      "4  5  5  5\n",
      "5  6  6  5\n"
     ]
    }
   ],
   "source": [
    "import pandas as pd\n",
    "dis = {\"a\":[1,2,3,4,5,6],\"s\":[1,2,3,4,5,6],\"d\":[1,2,3,4,5,5]}\n",
    "d = pd.DataFrame(dis)\n",
    "print(d)\n",
    "\n",
    "d.to_csv(\"TEST_NEW2.csv \", index = False, header = [1,2, 3])"
   ]
  },
  {
   "cell_type": "code",
   "execution_count": 3,
   "id": "943dc0db-7536-4495-b3fc-c82deef62965",
   "metadata": {},
   "outputs": [
    {
     "name": "stdout",
     "output_type": "stream",
     "text": [
      "   a  s  d\n",
      "0  1  1  1\n",
      "1  2  2  2\n",
      "2  3  3  3\n",
      "3  4  4  4\n",
      "4  5  5  5\n",
      "5  6  6  5\n"
     ]
    }
   ],
   "source": [
    "dis1 = {\"a\":[1,2,3,4,5,6],\"s\":[1,2,3,4,5,6],\"d\":[1,2,3,4,5,5]}\n",
    "d1 = pd.DataFrame(dis)\n",
    "print(d)\n",
    "\n",
    "d.to_csv(\"Python.csv\", index = False)"
   ]
  },
  {
   "cell_type": "code",
   "execution_count": null,
   "id": "9b5e398e-e34a-4c22-b5ee-7f1dc1571abd",
   "metadata": {},
   "outputs": [],
   "source": []
  }
 ],
 "metadata": {
  "kernelspec": {
   "display_name": "Python 3 (ipykernel)",
   "language": "python",
   "name": "python3"
  },
  "language_info": {
   "codemirror_mode": {
    "name": "ipython",
    "version": 3
   },
   "file_extension": ".py",
   "mimetype": "text/x-python",
   "name": "python",
   "nbconvert_exporter": "python",
   "pygments_lexer": "ipython3",
   "version": "3.12.3"
  }
 },
 "nbformat": 4,
 "nbformat_minor": 5
}
